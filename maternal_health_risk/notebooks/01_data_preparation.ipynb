{
 "cells": [
  {
   "cell_type": "markdown",
   "id": "be478d43",
   "metadata": {},
   "source": [
    "# 1. Data Loading and Initial Setup\n",
    "\n",
    "This notebook prepares the Maternal Health Risk dataset for our experiments. We will perform the following steps:\n",
    "1.  Load the raw data.\n",
    "2.  Apply the cleaning steps identified in the EDA (removing biased duplicates and outliers).\n",
    "3.  Split the data into training and a hold-out test set to prevent data leakage.\n",
    "4.  Apply preprocessing (scaling and encoding) fitted *only* on the training data.\n",
    "5.  Save the final, analysis-ready datasets to `/data/processed/`."
   ]
  },
  {
   "cell_type": "code",
   "execution_count": 4,
   "id": "ecb24b94",
   "metadata": {},
   "outputs": [],
   "source": [
    "import pandas as pd\n",
    "import numpy as np\n",
    "from ucimlrepo import fetch_ucirepo\n",
    "from sklearn.model_selection import train_test_split\n",
    "from sklearn.preprocessing import StandardScaler, OrdinalEncoder\n",
    "from pathlib import Path"
   ]
  },
  {
   "cell_type": "code",
   "execution_count": 5,
   "id": "23920cb8",
   "metadata": {},
   "outputs": [
    {
     "name": "stdout",
     "output_type": "stream",
     "text": [
      "Raw dataset:\n"
     ]
    },
    {
     "data": {
      "text/html": [
       "<div>\n",
       "<style scoped>\n",
       "    .dataframe tbody tr th:only-of-type {\n",
       "        vertical-align: middle;\n",
       "    }\n",
       "\n",
       "    .dataframe tbody tr th {\n",
       "        vertical-align: top;\n",
       "    }\n",
       "\n",
       "    .dataframe thead th {\n",
       "        text-align: right;\n",
       "    }\n",
       "</style>\n",
       "<table border=\"1\" class=\"dataframe\">\n",
       "  <thead>\n",
       "    <tr style=\"text-align: right;\">\n",
       "      <th></th>\n",
       "      <th>Age</th>\n",
       "      <th>SystolicBP</th>\n",
       "      <th>DiastolicBP</th>\n",
       "      <th>BS</th>\n",
       "      <th>BodyTemp</th>\n",
       "      <th>HeartRate</th>\n",
       "      <th>RiskLevel</th>\n",
       "    </tr>\n",
       "  </thead>\n",
       "  <tbody>\n",
       "    <tr>\n",
       "      <th>0</th>\n",
       "      <td>25</td>\n",
       "      <td>130</td>\n",
       "      <td>80</td>\n",
       "      <td>15.0</td>\n",
       "      <td>98.0</td>\n",
       "      <td>86</td>\n",
       "      <td>high risk</td>\n",
       "    </tr>\n",
       "    <tr>\n",
       "      <th>1</th>\n",
       "      <td>35</td>\n",
       "      <td>140</td>\n",
       "      <td>90</td>\n",
       "      <td>13.0</td>\n",
       "      <td>98.0</td>\n",
       "      <td>70</td>\n",
       "      <td>high risk</td>\n",
       "    </tr>\n",
       "    <tr>\n",
       "      <th>2</th>\n",
       "      <td>29</td>\n",
       "      <td>90</td>\n",
       "      <td>70</td>\n",
       "      <td>8.0</td>\n",
       "      <td>100.0</td>\n",
       "      <td>80</td>\n",
       "      <td>high risk</td>\n",
       "    </tr>\n",
       "    <tr>\n",
       "      <th>3</th>\n",
       "      <td>30</td>\n",
       "      <td>140</td>\n",
       "      <td>85</td>\n",
       "      <td>7.0</td>\n",
       "      <td>98.0</td>\n",
       "      <td>70</td>\n",
       "      <td>high risk</td>\n",
       "    </tr>\n",
       "    <tr>\n",
       "      <th>4</th>\n",
       "      <td>35</td>\n",
       "      <td>120</td>\n",
       "      <td>60</td>\n",
       "      <td>6.1</td>\n",
       "      <td>98.0</td>\n",
       "      <td>76</td>\n",
       "      <td>low risk</td>\n",
       "    </tr>\n",
       "  </tbody>\n",
       "</table>\n",
       "</div>"
      ],
      "text/plain": [
       "   Age  SystolicBP  DiastolicBP    BS  BodyTemp  HeartRate  RiskLevel\n",
       "0   25         130           80  15.0      98.0         86  high risk\n",
       "1   35         140           90  13.0      98.0         70  high risk\n",
       "2   29          90           70   8.0     100.0         80  high risk\n",
       "3   30         140           85   7.0      98.0         70  high risk\n",
       "4   35         120           60   6.1      98.0         76   low risk"
      ]
     },
     "metadata": {},
     "output_type": "display_data"
    }
   ],
   "source": [
    "\n",
    "RAW_PATH = Path(\"../data/raw/maternal_health_risk.csv\")\n",
    "PROCESSED_PATH = Path(\"../data/processed/\")\n",
    "TARGET_FEATURE = 'RiskLevel'\n",
    "NUMERICAL_FEATURES = ['Age', 'SystolicBP', 'DiastolicBP', 'BS', 'BodyTemp', 'HeartRate']\n",
    "\n",
    "RAW_PATH.parent.mkdir(parents=True, exist_ok=True)\n",
    "PROCESSED_PATH.mkdir(parents=True, exist_ok=True)\n",
    "\n",
    "maternal_health_risk = fetch_ucirepo(id=863)\n",
    "X_features = maternal_health_risk.data.features\n",
    "y_target = maternal_health_risk.data.targets\n",
    "df_raw = pd.concat([X_features, y_target], axis=1)\n",
    "df_raw.to_csv(RAW_PATH, index=False)\n",
    "\n",
    "print(\"Raw dataset:\")\n",
    "display(df_raw.head())"
   ]
  },
  {
   "cell_type": "markdown",
   "id": "390f5aa5",
   "metadata": {},
   "source": [
    "# 2. Data Cleaning\n",
    "\n",
    "Based on the findings from our EDA, we must perform two critical cleaning steps.\n",
    "\n",
    "### 2.1. Removing Biased Duplicates\n",
    "The raw dataset contains 562 duplicate rows. Our EDA revealed that these duplicates were not random, but were heavily skewed towards 'mid risk' and 'high risk' profiles. Keeping them would introduce significant bias into our models. Therefore, we remove them.\n"
   ]
  },
  {
   "cell_type": "code",
   "execution_count": 6,
   "id": "b2c1bf97",
   "metadata": {},
   "outputs": [
    {
     "name": "stdout",
     "output_type": "stream",
     "text": [
      "Shape after removing duplicates: (452, 7)\n"
     ]
    }
   ],
   "source": [
    "df_cleaned = df_raw.drop_duplicates().copy()\n",
    "print(f\"Shape after removing duplicates: {df_cleaned.shape}\")"
   ]
  },
  {
   "cell_type": "markdown",
   "id": "e86788a7",
   "metadata": {},
   "source": [
    "### 2.2. Removing Physiological Outlier\n",
    "The EDA also identified a record with a `HeartRate` of 7 bpm, which is physiologically impossible for a living person and is clearly a data entry error. We remove this record to maintain data integrity.\n"
   ]
  },
  {
   "cell_type": "code",
   "execution_count": 7,
   "id": "ea8a94a9",
   "metadata": {},
   "outputs": [
    {
     "name": "stdout",
     "output_type": "stream",
     "text": [
      "Final shape after cleaning: (451, 7)\n"
     ]
    }
   ],
   "source": [
    "df_cleaned = df_cleaned[df_cleaned['HeartRate'] != 7].reset_index(drop=True)\n",
    "print(f\"Final shape after cleaning: {df_cleaned.shape}\")"
   ]
  },
  {
   "cell_type": "markdown",
   "id": "2a9ef492",
   "metadata": {},
   "source": [
    "# 3. Data Splitting\n",
    "\n",
    "Let's create a hold-out test set **before** applying any further transformations. This test set will not be touched during training and will serve as our final, unbiased benchmark for all models (baseline and those trained on synthetic data). We use stratified splitting to maintain the same class distribution in both the training and test sets.\n"
   ]
  },
  {
   "cell_type": "code",
   "execution_count": 8,
   "id": "d8715b47",
   "metadata": {},
   "outputs": [
    {
     "name": "stdout",
     "output_type": "stream",
     "text": [
      "Training set shape: (360, 6)\n",
      "Test set shape: (91, 6)\n"
     ]
    }
   ],
   "source": [
    "X = df_cleaned.drop(TARGET_FEATURE, axis=1)\n",
    "y = df_cleaned[[TARGET_FEATURE]]\n",
    "\n",
    "X_train, X_test, y_train, y_test = train_test_split(\n",
    "    X, y, test_size=0.2, random_state=42, stratify=y\n",
    ")\n",
    "\n",
    "print(f\"Training set shape: {X_train.shape}\")\n",
    "print(f\"Test set shape: {X_test.shape}\")"
   ]
  },
  {
   "cell_type": "markdown",
   "id": "ecbbbfa8",
   "metadata": {},
   "source": [
    "# 4. Data Preprocessing\n",
    "\n",
    "Machine learning models require numerical input and often perform better when features are on a similar scale. We will apply two transformations:\n",
    "\n",
    "* **Ordinal Encoding**: The target variable `RiskLevel` has an inherent order ('low risk' < 'mid risk' < 'high risk'). We will convert these categories into numerical values (0, 1, 2) to reflect this.\n",
    "* **Standard Scaling**: We will scale all numerical features to have a mean of 0 and a standard deviation of 1. This is essential for distance-based and gradient-based algorithms.\n",
    "\n",
    "**Crucially**, the scaler will be `fit` only on the `X_train` data and then used to `transform` both `X_train` and `X_test`. This prevents any information from the test set leaking into our training process.\n"
   ]
  },
  {
   "cell_type": "code",
   "execution_count": 9,
   "id": "ed258942",
   "metadata": {},
   "outputs": [],
   "source": [
    "# Target Encoding\n",
    "target_encoder = OrdinalEncoder(categories=[['low risk', 'mid risk', 'high risk']])\n",
    "y_train_processed = target_encoder.fit_transform(y_train)\n",
    "y_test_processed = target_encoder.transform(y_test)\n",
    "\n",
    "# Feature Scaling\n",
    "scaler = StandardScaler()\n",
    "X_train_processed = scaler.fit_transform(X_train[NUMERICAL_FEATURES])\n",
    "X_test_processed = scaler.transform(X_test[NUMERICAL_FEATURES])"
   ]
  },
  {
   "cell_type": "markdown",
   "id": "3c44b05d",
   "metadata": {},
   "source": [
    "# 5. Saving the Final Datasets\n",
    "\n",
    "Finally, we combine the processed features and targets into final DataFrames and save them as CSV files. The `experiment_runner` script will load these files directly, ensuring a clean separation of concerns.\n"
   ]
  },
  {
   "cell_type": "code",
   "execution_count": 10,
   "id": "aad7ef5b",
   "metadata": {},
   "outputs": [
    {
     "name": "stdout",
     "output_type": "stream",
     "text": [
      "Processed training and testing sets saved successfully!\n",
      "\n",
      "Processed Training Data Head:\n"
     ]
    },
    {
     "data": {
      "text/html": [
       "<div>\n",
       "<style scoped>\n",
       "    .dataframe tbody tr th:only-of-type {\n",
       "        vertical-align: middle;\n",
       "    }\n",
       "\n",
       "    .dataframe tbody tr th {\n",
       "        vertical-align: top;\n",
       "    }\n",
       "\n",
       "    .dataframe thead th {\n",
       "        text-align: right;\n",
       "    }\n",
       "</style>\n",
       "<table border=\"1\" class=\"dataframe\">\n",
       "  <thead>\n",
       "    <tr style=\"text-align: right;\">\n",
       "      <th></th>\n",
       "      <th>Age</th>\n",
       "      <th>SystolicBP</th>\n",
       "      <th>DiastolicBP</th>\n",
       "      <th>BS</th>\n",
       "      <th>BodyTemp</th>\n",
       "      <th>HeartRate</th>\n",
       "      <th>RiskLevel</th>\n",
       "    </tr>\n",
       "  </thead>\n",
       "  <tbody>\n",
       "    <tr>\n",
       "      <th>0</th>\n",
       "      <td>1.090036</td>\n",
       "      <td>0.547832</td>\n",
       "      <td>1.468770</td>\n",
       "      <td>-0.326390</td>\n",
       "      <td>-0.521408</td>\n",
       "      <td>-1.101410</td>\n",
       "      <td>0.0</td>\n",
       "    </tr>\n",
       "    <tr>\n",
       "      <th>1</th>\n",
       "      <td>-0.686553</td>\n",
       "      <td>-0.006623</td>\n",
       "      <td>-1.099437</td>\n",
       "      <td>-0.501831</td>\n",
       "      <td>0.853734</td>\n",
       "      <td>-0.573437</td>\n",
       "      <td>1.0</td>\n",
       "    </tr>\n",
       "    <tr>\n",
       "      <th>2</th>\n",
       "      <td>-0.189108</td>\n",
       "      <td>0.547832</td>\n",
       "      <td>-0.365664</td>\n",
       "      <td>-0.572008</td>\n",
       "      <td>-0.521408</td>\n",
       "      <td>0.350515</td>\n",
       "      <td>0.0</td>\n",
       "    </tr>\n",
       "    <tr>\n",
       "      <th>3</th>\n",
       "      <td>-0.118045</td>\n",
       "      <td>0.270604</td>\n",
       "      <td>-1.099437</td>\n",
       "      <td>-0.326390</td>\n",
       "      <td>1.541306</td>\n",
       "      <td>1.538454</td>\n",
       "      <td>1.0</td>\n",
       "    </tr>\n",
       "    <tr>\n",
       "      <th>4</th>\n",
       "      <td>1.090036</td>\n",
       "      <td>0.547832</td>\n",
       "      <td>1.468770</td>\n",
       "      <td>-0.817627</td>\n",
       "      <td>-0.521408</td>\n",
       "      <td>-1.101410</td>\n",
       "      <td>0.0</td>\n",
       "    </tr>\n",
       "  </tbody>\n",
       "</table>\n",
       "</div>"
      ],
      "text/plain": [
       "        Age  SystolicBP  DiastolicBP        BS  BodyTemp  HeartRate  RiskLevel\n",
       "0  1.090036    0.547832     1.468770 -0.326390 -0.521408  -1.101410        0.0\n",
       "1 -0.686553   -0.006623    -1.099437 -0.501831  0.853734  -0.573437        1.0\n",
       "2 -0.189108    0.547832    -0.365664 -0.572008 -0.521408   0.350515        0.0\n",
       "3 -0.118045    0.270604    -1.099437 -0.326390  1.541306   1.538454        1.0\n",
       "4  1.090036    0.547832     1.468770 -0.817627 -0.521408  -1.101410        0.0"
      ]
     },
     "metadata": {},
     "output_type": "display_data"
    }
   ],
   "source": [
    "train_df = pd.DataFrame(X_train_processed, columns=NUMERICAL_FEATURES)\n",
    "train_df[TARGET_FEATURE] = y_train_processed\n",
    "\n",
    "test_df = pd.DataFrame(X_test_processed, columns=NUMERICAL_FEATURES)\n",
    "test_df[TARGET_FEATURE] = y_test_processed\n",
    "\n",
    "train_df.to_csv(PROCESSED_PATH / \"train.csv\", index=False)\n",
    "test_df.to_csv(PROCESSED_PATH / \"test.csv\", index=False)\n",
    "\n",
    "print(\"Processed training and testing sets saved successfully!\")\n",
    "print(\"\\nProcessed Training Data Head:\")\n",
    "display(train_df.head())"
   ]
  }
 ],
 "metadata": {
  "kernelspec": {
   "display_name": "base",
   "language": "python",
   "name": "python3"
  },
  "language_info": {
   "codemirror_mode": {
    "name": "ipython",
    "version": 3
   },
   "file_extension": ".py",
   "mimetype": "text/x-python",
   "name": "python",
   "nbconvert_exporter": "python",
   "pygments_lexer": "ipython3",
   "version": "3.13.2"
  }
 },
 "nbformat": 4,
 "nbformat_minor": 5
}
