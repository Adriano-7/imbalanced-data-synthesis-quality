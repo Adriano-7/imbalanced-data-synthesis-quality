{
 "cells": [
  {
   "cell_type": "markdown",
   "id": "0e33cc46",
   "metadata": {},
   "source": [
    "\n",
    "### Generating Controlled Imbalanced Datasets\n",
    "\n",
    "To systematically evaluate how class imbalance affects the quality of synthetic data, we will generate a series of datasets with precisely controlled, escalating **Imbalance Ratios (IRs)**.\n",
    "\n",
    "* **Constant Minority Class**: The number of minority class samples (**Malignant**, n=212) will be held constant across all experimental conditions. This ensures that the information available for the generator to learn from the minority class remains identical in every experiment.\n",
    "* **Majority Class Undersampling**: The majority class (**Benign**, n=357) will be randomly undersampled to create training sets that match our target IRs.\n"
   ]
  },
  {
   "cell_type": "code",
   "execution_count": 14,
   "id": "ae38c43d",
   "metadata": {},
   "outputs": [],
   "source": [
    "\n",
    "df_minority = df[df['diagnosis'] == 1].copy()\n",
    "df_majority = df[df['diagnosis'] == 0].copy()\n",
    "\n",
    "n_minority = len(df_minority)\n",
    "n_majority_original = len(df_majority)\n",
    "original_ir = n_majority_original / n_minority\n"
   ]
  },
  {
   "cell_type": "code",
   "execution_count": 15,
   "id": "bd3ef8f9",
   "metadata": {},
   "outputs": [
    {
     "name": "stdout",
     "output_type": "stream",
     "text": [
      "Original dataset composition:\n",
      "  - Minority (Malignant) samples: 212\n",
      "  - Majority (Benign) samples:    357\n",
      "  - Maximum possible IR via undersampling: 1.68\n",
      "--------------------------------------------------\n"
     ]
    }
   ],
   "source": [
    "print(f\"Original dataset composition:\")\n",
    "print(f\"  - Minority (Malignant) samples: {n_minority}\")\n",
    "print(f\"  - Majority (Benign) samples:    {n_majority_original}\")\n",
    "print(f\"  - Maximum possible IR via undersampling: {original_ir:.2f}\")\n",
    "print(\"-\" * 50)"
   ]
  },
  {
   "cell_type": "code",
   "execution_count": 16,
   "id": "3c04c027",
   "metadata": {},
   "outputs": [],
   "source": [
    "IMBALANCE_RATIOS = [1.0, 1.25, 1.5] \n",
    "RANDOM_STATE = 42\n",
    "imbalanced_datasets = {}"
   ]
  },
  {
   "cell_type": "code",
   "execution_count": 17,
   "id": "03325c0c",
   "metadata": {},
   "outputs": [
    {
     "name": "stdout",
     "output_type": "stream",
     "text": [
      "Successfully created dataset for IR = 1.00\n",
      "  - Majority samples:   212\n",
      "  - Minority samples:   212\n",
      "  - Total samples:      424\n",
      "---\n",
      "Successfully created dataset for IR = 1.25\n",
      "  - Majority samples:   265\n",
      "  - Minority samples:   212\n",
      "  - Total samples:      477\n",
      "---\n",
      "Successfully created dataset for IR = 1.50\n",
      "  - Majority samples:   318\n",
      "  - Minority samples:   212\n",
      "  - Total samples:      530\n",
      "---\n"
     ]
    }
   ],
   "source": [
    "for ir in IMBALANCE_RATIOS:\n",
    "    n_majority_target = int(n_minority * ir)\n",
    "    \n",
    "    if n_majority_target > n_majority_original:\n",
    "        print(f\"Skipping invalid IR={ir}\")\n",
    "        continue\n",
    "        \n",
    "    df_majority_sampled = df_majority.sample(n=n_majority_target, random_state=RANDOM_STATE)\n",
    "    df_imbalanced = pd.concat([df_majority_sampled, df_minority])\n",
    "    df_imbalanced = shuffle(df_imbalanced, random_state=RANDOM_STATE).reset_index(drop=True)\n",
    "    imbalanced_datasets[ir] = df_imbalanced\n",
    "\n",
    "    print(f\"Successfully created dataset for IR = {ir:.2f}\")\n",
    "    print(f\"  - Majority samples:   {len(df_majority_sampled)}\")\n",
    "    print(f\"  - Minority samples:   {len(df_minority)}\")\n",
    "    print(f\"  - Total samples:      {len(df_imbalanced)}\")\n",
    "    print(\"---\")"
   ]
  },
  {
   "cell_type": "code",
   "execution_count": 18,
   "id": "40a962dd",
   "metadata": {},
   "outputs": [
    {
     "name": "stdout",
     "output_type": "stream",
     "text": [
      "Added the original dataset to the collection (IR ≈ 1.68)\n",
      "---\n"
     ]
    }
   ],
   "source": [
    "imbalanced_datasets[original_ir] = shuffle(df, random_state=RANDOM_STATE).reset_index(drop=True)\n",
    "print(\"Added the original dataset to the collection (IR ≈ 1.68)\")\n",
    "print(\"---\")"
   ]
  },
  {
   "cell_type": "code",
   "execution_count": 19,
   "id": "13904273",
   "metadata": {},
   "outputs": [
    {
     "name": "stdout",
     "output_type": "stream",
     "text": [
      "\n",
      "The `imbalanced_datasets` dictionary now contains 4 dataframes.\n",
      "Keys (IRs): [1.0, 1.25, 1.5, 1.68]\n"
     ]
    }
   ],
   "source": [
    "\n",
    "print(f\"\\nThe `imbalanced_datasets` dictionary now contains {len(imbalanced_datasets)} dataframes.\")\n",
    "print(f\"Keys (IRs): {[round(k, 2) for k in imbalanced_datasets.keys()]}\")"
   ]
  },
  {
   "cell_type": "code",
   "execution_count": 20,
   "id": "4b5490a3",
   "metadata": {},
   "outputs": [
    {
     "name": "stdout",
     "output_type": "stream",
     "text": [
      "Successfully saved dataset with IR=1.00 to 'imbalanced_csvs/dataset_ir_1_0.csv'\n",
      "Successfully saved dataset with IR=1.25 to 'imbalanced_csvs/dataset_ir_1_25.csv'\n",
      "Successfully saved dataset with IR=1.50 to 'imbalanced_csvs/dataset_ir_1_5.csv'\n",
      "Successfully saved dataset with IR=1.68 to 'imbalanced_csvs/dataset_ir_1_6839622641509433.csv'\n",
      "\n",
      "All imbalanced datasets have been saved to the 'imbalanced_csvs' directory.\n"
     ]
    }
   ],
   "source": [
    "import os\n",
    "\n",
    "output_dir = \"imbalanced_csvs\"\n",
    "os.makedirs(output_dir, exist_ok=True)\n",
    "\n",
    "for ir, df_data in imbalanced_datasets.items():\n",
    "    filename_ir = str(ir).replace('.', '_')\n",
    "    file_path = os.path.join(output_dir, f\"dataset_ir_{filename_ir}.csv\")\n",
    "    \n",
    "    df_data.to_csv(file_path, index=False)\n",
    "    \n",
    "    print(f\"Successfully saved dataset with IR={ir:.2f} to '{file_path}'\")\n",
    "\n",
    "print(f\"\\nAll imbalanced datasets have been saved to the '{output_dir}' directory.\")"
   ]
  },
  {
   "cell_type": "markdown",
   "id": "1b838bee",
   "metadata": {},
   "source": [
    "# Train and evaluate"
   ]
  },
  {
   "cell_type": "code",
   "execution_count": null,
   "id": "7deffa95",
   "metadata": {},
   "outputs": [
    {
     "name": "stdout",
     "output_type": "stream",
     "text": [
      "Additional libraries for synthcity and analysis imported successfully!\n"
     ]
    }
   ],
   "source": [
    "from synthcity.plugins import Plugins\n",
    "from synthcity.benchmark import Benchmarks\n",
    "from synthcity.plugins.core.dataloader import GenericDataLoader\n",
    "\n",
    "from sklearn.model_selection import train_test_split\n",
    "\n",
    "from scipy.stats import f_oneway\n",
    "from statsmodels.stats.multicomp import pairwise_tukeyhsd\n",
    "\n",
    "import glob \n",
    "import re  "
   ]
  },
  {
   "cell_type": "code",
   "execution_count": null,
   "id": "7fd8a4b5",
   "metadata": {},
   "outputs": [
    {
     "name": "stdout",
     "output_type": "stream",
     "text": [
      "Hold-out test set created. Shape: (171, 31)\n",
      "Test set class distribution:\n",
      " diagnosis\n",
      "0    107\n",
      "1     64\n",
      "Name: count, dtype: int64\n"
     ]
    }
   ],
   "source": [
    "X = df.drop('diagnosis', axis=1)\n",
    "y = df['diagnosis']\n",
    "\n",
    "# Create a 70/30 split. \n",
    "X_train_full, X_test, y_train_full, y_test = train_test_split(\n",
    "    X, y, test_size=0.3, random_state=RANDOM_STATE, stratify=y\n",
    ")\n",
    "\n",
    "df_train_full = pd.concat([X_train_full, y_train_full], axis=1)\n",
    "df_test = pd.concat([X_test, y_test], axis=1)\n",
    "\n",
    "print(f\"Hold-out test set created. Shape: {df_test.shape}\")\n",
    "print(\"Test set class distribution:\\n\", df_test['diagnosis'].value_counts())"
   ]
  },
  {
   "cell_type": "code",
   "execution_count": 36,
   "id": "b7756d6d",
   "metadata": {},
   "outputs": [
    {
     "name": "stdout",
     "output_type": "stream",
     "text": [
      "Created training set for IR = 1.00 with 296 samples.\n",
      "Created training set for IR = 1.25 with 333 samples.\n",
      "Created training set for IR = 1.50 with 370 samples.\n"
     ]
    }
   ],
   "source": [
    "df_minority_train = df_train_full[df_train_full['diagnosis'] == 1].copy()\n",
    "df_majority_train = df_train_full[df_train_full['diagnosis'] == 0].copy()\n",
    "\n",
    "n_minority_train = len(df_minority_train)\n",
    "\n",
    "imbalanced_training_sets = {}\n",
    "for ir in IMBALANCE_RATIOS:\n",
    "    n_majority_target = int(n_minority_train * ir)\n",
    "    \n",
    "    df_majority_sampled = df_majority_train.sample(n=n_majority_target, random_state=RANDOM_STATE)\n",
    "    df_imbalanced = pd.concat([df_majority_sampled, df_minority_train])\n",
    "    df_imbalanced = shuffle(df_imbalanced, random_state=RANDOM_STATE).reset_index(drop=True)\n",
    "    \n",
    "    imbalanced_training_sets[ir] = df_imbalanced\n",
    "    print(f\"Created training set for IR = {ir:.2f} with {len(df_imbalanced)} samples.\")"
   ]
  },
  {
   "cell_type": "markdown",
   "id": "6b5e12d2",
   "metadata": {},
   "source": [
    "Now, we'll iterate through each of our imbalanced training sets. For each one, we will train three different types of generative models (ctgan, tvae, adsgan) and evaluate them. The Benchmarks.evaluate function will:\n",
    "\n",
    "- Train the generator on the provided imbalanced training data.\n",
    "- Use the trained generator to create synthetic data.\n",
    "- Train a downstream machine learning model (we'll use linear_model) on this synthetic data.\n",
    "- Evaluate the performance of the downstream model on our real hold-out test set."
   ]
  },
  {
   "cell_type": "code",
   "execution_count": 48,
   "id": "e77efec6",
   "metadata": {},
   "outputs": [
    {
     "name": "stderr",
     "output_type": "stream",
     "text": [
      "[2025-09-04T11:09:09.641833+0100][14110][CRITICAL] load failed: module 'synthcity.plugins.generic.plugin_great' has no attribute 'plugin'\n",
      "[2025-09-04T11:09:09.642897+0100][14110][CRITICAL] load failed: module 'synthcity.plugins.generic.plugin_great' has no attribute 'plugin'\n",
      "[2025-09-04T11:09:09.644338+0100][14110][CRITICAL] module plugin_great load failed\n",
      "[2025-09-04T11:09:09.645939+0100][14110][CRITICAL] module disabled: /home/adriano/miniconda3/envs/your-synthcity-env/lib/python3.9/site-packages/synthcity/plugins/generic/plugin_goggle.py\n",
      "[2025-09-04T11:09:09.647298+0100][14110][CRITICAL] load failed: module 'synthcity.plugins.privacy.plugin_decaf' has no attribute 'plugin'\n",
      "[2025-09-04T11:09:09.648838+0100][14110][CRITICAL] load failed: module 'synthcity.plugins.privacy.plugin_decaf' has no attribute 'plugin'\n",
      "[2025-09-04T11:09:09.649628+0100][14110][CRITICAL] module plugin_decaf load failed\n"
     ]
    },
    {
     "name": "stdout",
     "output_type": "stream",
     "text": [
      "\n",
      "===== Benchmarking for Imbalance Ratio (IR) = 1.00 =====\n",
      "\n",
      "===== Benchmarking for Imbalance Ratio (IR) = 1.25 =====\n"
     ]
    },
    {
     "name": "stderr",
     "output_type": "stream",
     "text": [
      " 30%|██▉       | 599/2000 [02:28<05:48,  4.02it/s]\n",
      "[2025-09-04T11:11:43.147741+0100][14110][CRITICAL] load failed: module 'synthcity.plugins.generic.plugin_great' has no attribute 'plugin'\n",
      "[2025-09-04T11:11:43.148569+0100][14110][CRITICAL] load failed: module 'synthcity.plugins.generic.plugin_great' has no attribute 'plugin'\n",
      "[2025-09-04T11:11:43.149882+0100][14110][CRITICAL] module plugin_great load failed\n",
      "[2025-09-04T11:11:43.150705+0100][14110][CRITICAL] module disabled: /home/adriano/miniconda3/envs/your-synthcity-env/lib/python3.9/site-packages/synthcity/plugins/generic/plugin_goggle.py\n",
      "[2025-09-04T11:11:43.151944+0100][14110][CRITICAL] load failed: module 'synthcity.plugins.privacy.plugin_decaf' has no attribute 'plugin'\n",
      "[2025-09-04T11:11:43.152708+0100][14110][CRITICAL] load failed: module 'synthcity.plugins.privacy.plugin_decaf' has no attribute 'plugin'\n",
      "[2025-09-04T11:11:43.153480+0100][14110][CRITICAL] module plugin_decaf load failed\n"
     ]
    },
    {
     "name": "stdout",
     "output_type": "stream",
     "text": [
      "\n",
      "===== Benchmarking for Imbalance Ratio (IR) = 1.50 =====\n"
     ]
    },
    {
     "name": "stderr",
     "output_type": "stream",
     "text": [
      " 65%|██████▍   | 1299/2000 [06:17<03:23,  3.44it/s]\n"
     ]
    },
    {
     "name": "stdout",
     "output_type": "stream",
     "text": [
      "\n",
      "\n",
      "✅ Benchmark complete. Results are stored in results_df.\n"
     ]
    },
    {
     "data": {
      "text/html": [
       "<div>\n",
       "<style scoped>\n",
       "    .dataframe tbody tr th:only-of-type {\n",
       "        vertical-align: middle;\n",
       "    }\n",
       "\n",
       "    .dataframe tbody tr th {\n",
       "        vertical-align: top;\n",
       "    }\n",
       "\n",
       "    .dataframe thead th {\n",
       "        text-align: right;\n",
       "    }\n",
       "</style>\n",
       "<table border=\"1\" class=\"dataframe\">\n",
       "  <thead>\n",
       "    <tr style=\"text-align: right;\">\n",
       "      <th></th>\n",
       "      <th>ir</th>\n",
       "      <th>model</th>\n",
       "      <th>mean_aucroc</th>\n",
       "      <th>std_aucroc</th>\n",
       "      <th>all_aucrocs</th>\n",
       "    </tr>\n",
       "  </thead>\n",
       "  <tbody>\n",
       "    <tr>\n",
       "      <th>0</th>\n",
       "      <td>1.00</td>\n",
       "      <td>ctgan</td>\n",
       "      <td>0.940559</td>\n",
       "      <td>0.0</td>\n",
       "      <td>[]</td>\n",
       "    </tr>\n",
       "    <tr>\n",
       "      <th>1</th>\n",
       "      <td>1.25</td>\n",
       "      <td>ctgan</td>\n",
       "      <td>0.919580</td>\n",
       "      <td>0.0</td>\n",
       "      <td>[]</td>\n",
       "    </tr>\n",
       "    <tr>\n",
       "      <th>2</th>\n",
       "      <td>1.50</td>\n",
       "      <td>ctgan</td>\n",
       "      <td>0.979021</td>\n",
       "      <td>0.0</td>\n",
       "      <td>[]</td>\n",
       "    </tr>\n",
       "  </tbody>\n",
       "</table>\n",
       "</div>"
      ],
      "text/plain": [
       "     ir  model  mean_aucroc  std_aucroc all_aucrocs\n",
       "0  1.00  ctgan     0.940559         0.0          []\n",
       "1  1.25  ctgan     0.919580         0.0          []\n",
       "2  1.50  ctgan     0.979021         0.0          []"
      ]
     },
     "execution_count": 48,
     "metadata": {},
     "output_type": "execute_result"
    }
   ],
   "source": [
    "models_to_test = [\"ctgan\"]\n",
    "\n",
    "test_loader = GenericDataLoader(df_test, target_column=\"diagnosis\")\n",
    "results = []\n",
    "\n",
    "for ir, train_df in imbalanced_training_sets.items():\n",
    "    print(f\"\\n# Benchmarking for Imbalance Ratio (IR) = {ir:.2f} #\")\n",
    "    \n",
    "    train_loader = GenericDataLoader(train_df, target_column=\"diagnosis\")\n",
    "    tasks = [(f\"{model}_{ir:.2f}\", model, {}) for model in models_to_test]\n",
    "    \n",
    "    score = Benchmarks.evaluate(\n",
    "        tests=tasks,         \n",
    "        X=train_loader,       \n",
    "        X_test=test_loader,   \n",
    "        synthetic_size=len(train_df),\n",
    "        metrics={\"performance\": [\"linear_model\"]},\n",
    "        #repeats=3\n",
    "        repeats=1\n",
    "    )\n",
    "    \n",
    "    for model in models_to_test:\n",
    "        test_name = f\"{model}_{ir:.2f}\"\n",
    "        mean_aucroc = 0\n",
    "        std_aucroc = 0\n",
    "\n",
    "        if isinstance(score, dict):\n",
    "            results_df_for_model = score[test_name]\n",
    "            performance_row = results_df_for_model.loc['performance.linear_model.syn_ood']\n",
    "            \n",
    "            mean_aucroc = performance_row['mean']\n",
    "            std_aucroc = performance_row['stddev']\n",
    "        \n",
    "        else: # It's a DataFrame \n",
    "            performance_row = score.loc[test_name]\n",
    "            mean_aucroc = performance_row['performance.linear_model.syn_ood.mean']\n",
    "            std_aucroc = performance_row['performance.linear_model.syn_ood.stddev']\n",
    "\n",
    "        results.append({\n",
    "            \"ir\": ir,\n",
    "            \"model\": model,\n",
    "            \"mean_aucroc\": mean_aucroc,\n",
    "            \"std_aucroc\": std_aucroc,\n",
    "            \"all_aucrocs\": [] \n",
    "        })\n",
    "\n",
    "results_df = pd.DataFrame(results)\n",
    "\n",
    "print(\"\\n\\n✅ Benchmark complete. Results are stored in results_df.\")\n",
    "results_df"
   ]
  },
  {
   "cell_type": "markdown",
   "id": "50ca91ca",
   "metadata": {},
   "source": [
    "Let's now analyze how the performance (AUCROC) of each generative model changes as the class imbalance in the training data becomes more severe. \n",
    "\n",
    "A robust model will have a curve that remains relatively flat, while a fragile model will show a steep decline.\n",
    "\n"
   ]
  },
  {
   "cell_type": "code",
   "execution_count": 49,
   "id": "ffe3df90",
   "metadata": {},
   "outputs": [
    {
     "data": {
      "image/png": "[encoded data removed]",
      "text/plain": [
       "<Figure size 1200x700 with 1 Axes>"
      ]
     },
     "metadata": {},
     "output_type": "display_data"
    }
   ],
   "source": [
    "plt.figure(figsize=(12, 7))\n",
    "\n",
    "sns.lineplot(\n",
    "    data=results_df,\n",
    "    x='ir',\n",
    "    y='mean_aucroc',\n",
    "    hue='model',\n",
    "    marker='o',\n",
    "    style='model',\n",
    "    markersize=8\n",
    ")\n",
    "\n",
    "plt.title('Generative Model Performance vs. Imbalance Ratio', fontsize=18, pad=20)\n",
    "plt.xlabel('Imbalance Ratio (IR)', fontsize=14)\n",
    "plt.ylabel('Mean AUCROC (on Real Test Data)', fontsize=14)\n",
    "plt.legend(title='Generative Model', fontsize=12)\n",
    "plt.grid(True, which='both', linestyle='--', linewidth=0.5)\n",
    "plt.xticks(IMBALANCE_RATIOS)\n",
    "plt.ylim(0.5, 1.0) \n",
    "plt.show()"
   ]
  }
 ],
 "metadata": {
  "kernelspec": {
   "display_name": "your-synthcity-env",
   "language": "python",
   "name": "python3"
  },
  "language_info": {
   "codemirror_mode": {
    "name": "ipython",
    "version": 3
   },
   "file_extension": ".py",
   "mimetype": "text/x-python",
   "name": "python",
   "nbconvert_exporter": "python",
   "pygments_lexer": "ipython3",
   "version": "3.9.23"
  }
 },
 "nbformat": 4,
 "nbformat_minor": 5
}
